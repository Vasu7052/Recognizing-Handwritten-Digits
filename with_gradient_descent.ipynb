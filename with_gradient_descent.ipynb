{
 "cells": [
  {
   "cell_type": "code",
   "execution_count": 258,
   "metadata": {
    "collapsed": true
   },
   "outputs": [],
   "source": [
    "import numpy as np\n",
    "import matplotlib.pyplot as plt\n",
    "import math\n",
    "from numpy.linalg import inv\n",
    "import pandas as pd\n",
    "import sys\n",
    "from sklearn import datasets\n",
    "from numpy.linalg import inv"
   ]
  },
  {
   "cell_type": "code",
   "execution_count": 259,
   "metadata": {},
   "outputs": [
    {
     "data": {
      "text/plain": [
       "(1797, 65)"
      ]
     },
     "execution_count": 259,
     "metadata": {},
     "output_type": "execute_result"
    }
   ],
   "source": [
    "digits = datasets.load_digits()\n",
    "digits.keys()\n",
    "images_data = digits['data'][:,:]\n",
    "temp_output = digits['target'][:]\n",
    "x0 = np.ones((len(images_data),1))\n",
    "x = np.concatenate((x0,images_data),axis=1)\n",
    "y = temp_output.reshape((len(x),1))\n",
    "x.shape"
   ]
  },
  {
   "cell_type": "code",
   "execution_count": 260,
   "metadata": {
    "collapsed": true
   },
   "outputs": [],
   "source": [
    "alpha = 0.00075\n",
    "iterations = 2000\n",
    "\n",
    "jc = []"
   ]
  },
  {
   "cell_type": "code",
   "execution_count": null,
   "metadata": {
    "collapsed": true
   },
   "outputs": [],
   "source": [
    "def find_cost(theta):\n",
    "    cost = 0\n",
    "    for i in range(0,len(x)):\n",
    "        cost = cost + ((np.dot(x[i],theta) - y[i])**2)\n",
    "    cost = cost/float(len(x))\n",
    "    return cost"
   ]
  },
  {
   "cell_type": "code",
   "execution_count": null,
   "metadata": {},
   "outputs": [],
   "source": []
  },
  {
   "cell_type": "code",
   "execution_count": null,
   "metadata": {},
   "outputs": [
    {
     "name": "stdout",
     "output_type": "stream",
     "text": [
      "Iteration : 478/2000"
     ]
    }
   ],
   "source": [
    "theta = np.zeros((len(x[0]),1)).astype(float)\n",
    "\n",
    "for iter in range(0,iterations) :\n",
    "\n",
    "    sys.stdout.write(\"\\r\")\n",
    "    sys.stdout.write(\"Iteration : \" + str(iter+1) + \"/\" + str(iterations))\n",
    "    sys.stdout.flush()\n",
    "    \n",
    "    temp1 = np.dot(x,theta)\n",
    "    temp2 = np.subtract(temp1,y)\n",
    "\n",
    "    for k in range(0,len(theta)):\n",
    "        \n",
    "        temp3 = temp2 * (x[:,k].reshape((len(x),1)))\n",
    "        theta[k] = np.subtract(theta[k] , alpha*np.mean(temp3,axis=0) )\n",
    "        \n",
    "    ct = find_cost(theta)\n",
    "    jc.append(ct)\n",
    "\n"
   ]
  },
  {
   "cell_type": "code",
   "execution_count": null,
   "metadata": {},
   "outputs": [],
   "source": [
    "rnd = np.random.randint(1000)\n",
    "feature_values = x[rnd].reshape((1,len(x[0])))\n",
    "\n",
    "plt.plot(np.arange(iterations),jc,label='Cost plot')\n",
    "\n",
    "print('Cost : ' , find_cost(theta))\n",
    "print('Actual : ' , y[rnd])\n",
    "print('Predicted Value : ' , np.dot(feature_values,theta))\n",
    "\n",
    "plt.legend()\n",
    "plt.show()"
   ]
  },
  {
   "cell_type": "code",
   "execution_count": null,
   "metadata": {
    "collapsed": true
   },
   "outputs": [],
   "source": []
  },
  {
   "cell_type": "code",
   "execution_count": null,
   "metadata": {
    "collapsed": true
   },
   "outputs": [],
   "source": []
  },
  {
   "cell_type": "code",
   "execution_count": null,
   "metadata": {
    "collapsed": true
   },
   "outputs": [],
   "source": []
  }
 ],
 "metadata": {
  "kernelspec": {
   "display_name": "Python 3",
   "language": "python",
   "name": "python3"
  },
  "language_info": {
   "codemirror_mode": {
    "name": "ipython",
    "version": 3
   },
   "file_extension": ".py",
   "mimetype": "text/x-python",
   "name": "python",
   "nbconvert_exporter": "python",
   "pygments_lexer": "ipython3",
   "version": "3.6.3"
  }
 },
 "nbformat": 4,
 "nbformat_minor": 2
}
