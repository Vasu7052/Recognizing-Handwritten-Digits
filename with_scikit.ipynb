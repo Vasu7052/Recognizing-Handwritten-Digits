{
 "cells": [
  {
   "cell_type": "code",
   "execution_count": 3,
   "metadata": {
    "collapsed": true
   },
   "outputs": [],
   "source": [
    "import pandas as pd\n",
    "import numpy as np\n",
    "import sys\n",
    "from sklearn import datasets,linear_model\n",
    "import matplotlib.pyplot as plt"
   ]
  },
  {
   "cell_type": "code",
   "execution_count": 4,
   "metadata": {},
   "outputs": [
    {
     "data": {
      "text/plain": [
       "dict_keys(['data', 'target', 'target_names', 'images', 'DESCR'])"
      ]
     },
     "execution_count": 4,
     "metadata": {},
     "output_type": "execute_result"
    }
   ],
   "source": [
    "digits = datasets.load_digits()\n",
    "digits.keys()"
   ]
  },
  {
   "cell_type": "code",
   "execution_count": null,
   "metadata": {
    "collapsed": true
   },
   "outputs": [],
   "source": [
    "images_data = digits['data']\n",
    "temp_output = digits['target'].reshape((1797,1))\n",
    "images_data[0]\n",
    "images_data.shape\n",
    "temp_output[0][0]"
   ]
  },
  {
   "cell_type": "code",
   "execution_count": null,
   "metadata": {
    "collapsed": true
   },
   "outputs": [],
   "source": [
    "images_output = []\n",
    "for i in range(len(temp_output)):\n",
    "    if temp_output[i][0] == 0 :\n",
    "        images_output.append([1,0,0,0,0,0,0,0,0,0])\n",
    "    elif temp_output[i][0] == 1 :\n",
    "        images_output.append([0,1,0,0,0,0,0,0,0,0])\n",
    "    elif temp_output[i][0] == 2 :\n",
    "        images_output.append([0,0,1,0,0,0,0,0,0,0])\n",
    "    elif temp_output[i][0] == 3 :\n",
    "        images_output.append([0,0,0,1,0,0,0,0,0,0])\n",
    "    elif temp_output[i][0] == 4 :\n",
    "        images_output.append([0,0,0,0,1,0,0,0,0,0])\n",
    "    elif temp_output[i][0] == 5 :\n",
    "        images_output.append([0,0,0,0,0,1,0,0,0,0])\n",
    "    elif temp_output[i][0] == 6 :\n",
    "        images_output.append([0,0,0,0,0,0,1,0,0,0])\n",
    "    elif temp_output[i][0] == 7 :\n",
    "        images_output.append([0,0,0,0,0,0,0,1,0,0])\n",
    "    elif temp_output[i][0] == 8 :\n",
    "        images_output.append([0,0,0,0,0,0,0,0,1,0])\n",
    "    elif temp_output[i][0] == 9 :\n",
    "        images_output.append([0,0,0,0,0,0,0,0,0,1])\n",
    "images_output = np.array(images_output).astype(float)   "
   ]
  },
  {
   "cell_type": "code",
   "execution_count": null,
   "metadata": {
    "collapsed": true
   },
   "outputs": [],
   "source": []
  }
 ],
 "metadata": {
  "kernelspec": {
   "display_name": "Python 3",
   "language": "python",
   "name": "python3"
  },
  "language_info": {
   "codemirror_mode": {
    "name": "ipython",
    "version": 3
   },
   "file_extension": ".py",
   "mimetype": "text/x-python",
   "name": "python",
   "nbconvert_exporter": "python",
   "pygments_lexer": "ipython3",
   "version": "3.6.3"
  }
 },
 "nbformat": 4,
 "nbformat_minor": 2
}
