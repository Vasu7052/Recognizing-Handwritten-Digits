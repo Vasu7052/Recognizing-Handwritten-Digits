{
 "cells": [
  {
   "cell_type": "code",
   "execution_count": 450,
   "metadata": {
    "collapsed": true
   },
   "outputs": [],
   "source": [
    "import pandas as pd\n",
    "import numpy as np\n",
    "import sys\n",
    "from sklearn import datasets\n",
    "import matplotlib.pyplot as plt\n"
   ]
  },
  {
   "cell_type": "code",
   "execution_count": 451,
   "metadata": {},
   "outputs": [
    {
     "data": {
      "text/plain": [
       "dict_keys(['data', 'target', 'target_names', 'images', 'DESCR'])"
      ]
     },
     "execution_count": 451,
     "metadata": {},
     "output_type": "execute_result"
    }
   ],
   "source": [
    "digits = datasets.load_digits()\n",
    "digits.keys()"
   ]
  },
  {
   "cell_type": "code",
   "execution_count": 452,
   "metadata": {},
   "outputs": [
    {
     "data": {
      "text/plain": [
       "0"
      ]
     },
     "execution_count": 452,
     "metadata": {},
     "output_type": "execute_result"
    }
   ],
   "source": [
    "images_data = digits['data']\n",
    "temp_output = digits['target'].reshape((1797,1))\n",
    "images_data[0]\n",
    "images_data.shape\n",
    "temp_output[0][0]"
   ]
  },
  {
   "cell_type": "code",
   "execution_count": 453,
   "metadata": {},
   "outputs": [
    {
     "data": {
      "text/plain": [
       "array([[ 1.,  0.,  0., ...,  0.,  0.,  0.],\n",
       "       [ 0.,  1.,  0., ...,  0.,  0.,  0.],\n",
       "       [ 0.,  0.,  1., ...,  0.,  0.,  0.],\n",
       "       ..., \n",
       "       [ 0.,  0.,  0., ...,  0.,  1.,  0.],\n",
       "       [ 0.,  0.,  0., ...,  0.,  0.,  1.],\n",
       "       [ 0.,  0.,  0., ...,  0.,  1.,  0.]])"
      ]
     },
     "execution_count": 453,
     "metadata": {},
     "output_type": "execute_result"
    }
   ],
   "source": [
    "images_output = []\n",
    "for i in range(len(temp_output)):\n",
    "    if temp_output[i][0] == 0 :\n",
    "        images_output.append([1,0,0,0,0,0,0,0,0,0])\n",
    "    elif temp_output[i][0] == 1 :\n",
    "        images_output.append([0,1,0,0,0,0,0,0,0,0])\n",
    "    elif temp_output[i][0] == 2 :\n",
    "        images_output.append([0,0,1,0,0,0,0,0,0,0])\n",
    "    elif temp_output[i][0] == 3 :\n",
    "        images_output.append([0,0,0,1,0,0,0,0,0,0])\n",
    "    elif temp_output[i][0] == 4 :\n",
    "        images_output.append([0,0,0,0,1,0,0,0,0,0])\n",
    "    elif temp_output[i][0] == 5 :\n",
    "        images_output.append([0,0,0,0,0,1,0,0,0,0])\n",
    "    elif temp_output[i][0] == 6 :\n",
    "        images_output.append([0,0,0,0,0,0,1,0,0,0])\n",
    "    elif temp_output[i][0] == 7 :\n",
    "        images_output.append([0,0,0,0,0,0,0,1,0,0])\n",
    "    elif temp_output[i][0] == 8 :\n",
    "        images_output.append([0,0,0,0,0,0,0,0,1,0])\n",
    "    elif temp_output[i][0] == 9 :\n",
    "        images_output.append([0,0,0,0,0,0,0,0,0,1])\n",
    "images_output = np.array(images_output).astype(float)   \n",
    "images_output"
   ]
  },
  {
   "cell_type": "code",
   "execution_count": 454,
   "metadata": {
    "collapsed": true
   },
   "outputs": [],
   "source": [
    "costs = []\n",
    "learning_rate = 0.001\n",
    "\n",
    "iterations = 3000\n",
    "hidden_layer = 1\n",
    "hidden_units = 20\n",
    "theta1 = np.array(np.random.uniform(-1,1,(len(images_data[0]),hidden_units))).astype(float)\n",
    "theta2 = np.array(np.random.uniform(-1,1,(hidden_units,hidden_units))).astype(float)\n",
    "theta3 = np.array(np.random.uniform(-1,1,(hidden_units,10))).astype(float)"
   ]
  },
  {
   "cell_type": "code",
   "execution_count": 455,
   "metadata": {
    "collapsed": true
   },
   "outputs": [],
   "source": [
    "def tanh(x):\n",
    "    return np.tanh(x)\n",
    "\n",
    "\n",
    "def tanh_prime(x):\n",
    "    return 1.0 - x ** 2"
   ]
  },
  {
   "cell_type": "code",
   "execution_count": 456,
   "metadata": {},
   "outputs": [
    {
     "name": "stdout",
     "output_type": "stream",
     "text": [
      "Iteration : 5000/5000"
     ]
    }
   ],
   "source": [
    "for i in range(0,iterations):\n",
    "    \n",
    "    sys.stdout.write(\"\\r\")\n",
    "    sys.stdout.write(\"Iteration : \" + str(i+1) + \"/\" + str(iterations))\n",
    "    sys.stdout.flush()\n",
    "\n",
    "    rnd = np.random.randint(0,len(images_data))\n",
    "    tempx = np.atleast_2d(images_data[rnd].astype(float))\n",
    "    tempy = np.atleast_2d(images_output[rnd].astype(float))\n",
    "    \n",
    "    c = 0\n",
    "    for i in range(len(images_data)) :\n",
    "        a = images_data[i]\n",
    "        a = tanh(np.dot(a, theta1))\n",
    "        a = tanh(np.dot(a, theta2))\n",
    "        a = tanh(np.dot(a, theta3))\n",
    "        c = c + (a[0]-images_output[i])**2\n",
    "\n",
    "    costs.append(c/len(images_data))\n",
    "    \n",
    "    a1 = tempx\n",
    "    a2 = tanh(np.array(np.dot(a1,theta1)))\n",
    "    a3 = tanh(np.array(np.dot(a2,theta2)))\n",
    "    a4 = tanh(np.array(np.dot(a3,theta3)))\n",
    "    \n",
    "    error = np.subtract(a4,tempy)\n",
    "    \n",
    "    delta4 = error * tanh_prime(a4)\n",
    "     \n",
    "    del3 = np.dot(delta4,theta3.transpose())\n",
    "    delta3 = del3*tanh_prime(a3)\n",
    "    \n",
    "    del2 = np.dot(delta3,theta2.transpose())\n",
    "    delta2 = del2*tanh_prime(a2)\n",
    "    \n",
    "    theta1 = theta1 - learning_rate*(np.dot(a1.transpose(),delta2))\n",
    "    theta2 = theta2 - learning_rate*(np.dot(a2.transpose(),delta3))\n",
    "    theta3 = theta3 - learning_rate*(np.dot(a3.transpose(),delta4))\n",
    "\n",
    "    "
   ]
  },
  {
   "cell_type": "code",
   "execution_count": 457,
   "metadata": {},
   "outputs": [
    {
     "data": {
      "text/plain": [
       "[<matplotlib.lines.Line2D at 0x99d20948d0>]"
      ]
     },
     "execution_count": 457,
     "metadata": {},
     "output_type": "execute_result"
    }
   ],
   "source": [
    "costs\n",
    "means = np.mean(costs,axis=1)\n",
    "plt.plot(np.arange(iterations) , means , c='b')"
   ]
  },
  {
   "cell_type": "code",
   "execution_count": 458,
   "metadata": {},
   "outputs": [
    {
     "name": "stdout",
     "output_type": "stream",
     "text": [
      "616 [4] \n",
      "[ 0.98324188  0.0614511   0.85925237 -0.26157331 -0.49054956  0.99631473\n",
      "  0.99486309  0.2055135   0.72327576  0.99667645]\n"
     ]
    },
    {
     "data": {
      "image/png": "[encoded data removed]",
      "text/plain": [
       "<matplotlib.figure.Figure at 0x99d0df67b8>"
      ]
     },
     "metadata": {},
     "output_type": "display_data"
    },
    {
     "data": {
      "image/png": "[encoded data removed]",
      "text/plain": [
       "<matplotlib.figure.Figure at 0x99d209d860>"
      ]
     },
     "metadata": {},
     "output_type": "display_data"
    }
   ],
   "source": [
    "rnd = np.random.randint(0,1000)\n",
    "a = images_data[rnd]\n",
    "a = tanh(np.dot(a, theta1))\n",
    "a = tanh(np.dot(a, theta2))\n",
    "a = tanh(np.dot(a, theta3))\n",
    "print(rnd , temp_output[rnd] , '\\n'+ str(a))\n",
    "data1 = images_data[rnd].reshape((8,8))\n",
    "#fig = plt.imshow(data1)\n",
    "plt.figure()\n",
    "plt.imshow(255-data1)\n",
    "plt.gray()\n",
    "plt.show()"
   ]
  }
 ],
 "metadata": {
  "kernelspec": {
   "display_name": "Python 3",
   "language": "python",
   "name": "python3"
  },
  "language_info": {
   "codemirror_mode": {
    "name": "ipython",
    "version": 3
   },
   "file_extension": ".py",
   "mimetype": "text/x-python",
   "name": "python",
   "nbconvert_exporter": "python",
   "pygments_lexer": "ipython3",
   "version": "3.6.3"
  }
 },
 "nbformat": 4,
 "nbformat_minor": 2
}
