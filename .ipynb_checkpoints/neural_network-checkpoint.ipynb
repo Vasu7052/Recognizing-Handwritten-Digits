{
 "cells": [
  {
   "cell_type": "code",
   "execution_count": 143,
   "metadata": {
    "collapsed": true
   },
   "outputs": [],
   "source": [
    "import pandas as pd\n",
    "import numpy as np\n",
    "import sys\n",
    "from sklearn import datasets\n",
    "import matplotlib.pyplot as plt\n"
   ]
  },
  {
   "cell_type": "code",
   "execution_count": 144,
   "metadata": {},
   "outputs": [
    {
     "data": {
      "text/plain": [
       "dict_keys(['data', 'target', 'target_names', 'images', 'DESCR'])"
      ]
     },
     "execution_count": 144,
     "metadata": {},
     "output_type": "execute_result"
    }
   ],
   "source": [
    "digits = datasets.load_digits()\n",
    "digits.keys()"
   ]
  },
  {
   "cell_type": "code",
   "execution_count": 145,
   "metadata": {},
   "outputs": [
    {
     "data": {
      "text/plain": [
       "0"
      ]
     },
     "execution_count": 145,
     "metadata": {},
     "output_type": "execute_result"
    }
   ],
   "source": [
    "images_data = digits['data']\n",
    "temp_output = digits['target'].reshape((1797,1))\n",
    "images_data[0]\n",
    "images_data.shape\n",
    "temp_output[0][0]"
   ]
  },
  {
   "cell_type": "code",
   "execution_count": 146,
   "metadata": {},
   "outputs": [],
   "source": [
    "images_output = []\n",
    "for i in range(len(temp_output)):\n",
    "    if temp_output[i][0] == 0 :\n",
    "        images_output.append([1,0,0,0,0,0,0,0,0,0])\n",
    "    elif temp_output[i][0] == 1 :\n",
    "        images_output.append([0,1,0,0,0,0,0,0,0,0])\n",
    "    elif temp_output[i][0] == 2 :\n",
    "        images_output.append([0,0,1,0,0,0,0,0,0,0])\n",
    "    elif temp_output[i][0] == 3 :\n",
    "        images_output.append([0,0,0,1,0,0,0,0,0,0])\n",
    "    elif temp_output[i][0] == 4 :\n",
    "        images_output.append([0,0,0,0,1,0,0,0,0,0])\n",
    "    elif temp_output[i][0] == 5 :\n",
    "        images_output.append([0,0,0,0,0,1,0,0,0,0])\n",
    "    elif temp_output[i][0] == 6 :\n",
    "        images_output.append([0,0,0,0,0,0,1,0,0,0])\n",
    "    elif temp_output[i][0] == 7 :\n",
    "        images_output.append([0,0,0,0,0,0,0,1,0,0])\n",
    "    elif temp_output[i][0] == 8 :\n",
    "        images_output.append([0,0,0,0,0,0,0,0,1,0])\n",
    "    elif temp_output[i][0] == 9 :\n",
    "        images_output.append([0,0,0,0,0,0,0,0,0,1])\n",
    "images_output = np.array(images_output).astype(float)   "
   ]
  },
  {
   "cell_type": "code",
   "execution_count": 147,
   "metadata": {},
   "outputs": [],
   "source": [
    "costs = []\n",
    "learning_rate = 0.001\n",
    "\n",
    "iterations = 5000\n",
    "hidden_layer = 1\n",
    "hidden_units = len(images_data[0])+1\n",
    "theta1 = np.array(np.random.uniform(-1,1,(len(images_data[0]),hidden_units))).astype(float)\n",
    "theta2 = np.array(np.random.uniform(-1,1,(hidden_units,hidden_units))).astype(float)\n",
    "theta3 = np.array(np.random.uniform(-1,1,(hidden_units,10))).astype(float)"
   ]
  },
  {
   "cell_type": "code",
   "execution_count": null,
   "metadata": {
    "collapsed": true
   },
   "outputs": [],
   "source": [
    "def tanh(x):\n",
    "    return np.tanh(x)\n",
    "\n",
    "\n",
    "def tanh_prime(x):\n",
    "    return 1.0 - x ** 2"
   ]
  },
  {
   "cell_type": "code",
   "execution_count": null,
   "metadata": {},
   "outputs": [
    {
     "name": "stdout",
     "output_type": "stream",
     "text": [
      "Iteration : 3948/5000"
     ]
    }
   ],
   "source": [
    "for i in range(0,iterations):\n",
    "    \n",
    "    sys.stdout.write(\"\\r\")\n",
    "    sys.stdout.write(\"Iteration : \" + str(i) + \"/\" + str(iterations))\n",
    "    sys.stdout.flush()\n",
    "\n",
    "    rnd = np.random.randint(0,len(images_data))\n",
    "    tempx = np.atleast_2d(images_data[rnd].astype(float))\n",
    "    tempy = np.atleast_2d(images_output[rnd].astype(float))\n",
    "    \n",
    "    c = 0\n",
    "    for i in range(len(images_data)) :\n",
    "        a = images_data[i]\n",
    "        a = tanh(np.dot(a, theta1))\n",
    "        a = tanh(np.dot(a, theta2))\n",
    "        a = tanh(np.dot(a, theta3))\n",
    "        c = c + (a[0]-images_output[i])**2\n",
    "\n",
    "    costs.append(c/len(images_data))\n",
    "    \n",
    "    a1 = tempx\n",
    "    a2 = tanh(np.array(np.dot(a1,theta1)))\n",
    "    a3 = tanh(np.array(np.dot(a2,theta2)))\n",
    "    a4 = tanh(np.array(np.dot(a3,theta3)))\n",
    "    \n",
    "    error = np.subtract(a4,tempy)\n",
    "    \n",
    "    delta4 = error * tanh_prime(a4)\n",
    "     \n",
    "    del3 = np.dot(delta4,theta3.transpose())\n",
    "    delta3 = del3*tanh_prime(a3)\n",
    "    \n",
    "    del2 = np.dot(delta3,theta2.transpose())\n",
    "    delta2 = del2*tanh_prime(a2)\n",
    "    \n",
    "    theta1 = theta1 - learning_rate*(np.dot(a1.transpose(),delta2))\n",
    "    theta2 = theta2 - learning_rate*(np.dot(a2.transpose(),delta3))\n",
    "    theta3 = theta3 - learning_rate*(np.dot(a3.transpose(),delta4))\n",
    "\n",
    "    "
   ]
  },
  {
   "cell_type": "code",
   "execution_count": null,
   "metadata": {},
   "outputs": [],
   "source": [
    "costs\n",
    "means = np.mean(costs,axis=1)\n",
    "plt.plot(np.arange(iterations) , means , c='b')"
   ]
  },
  {
   "cell_type": "code",
   "execution_count": null,
   "metadata": {},
   "outputs": [],
   "source": [
    "a = images_data[0]\n",
    "a = tanh(np.dot(a, theta1))\n",
    "a = tanh(np.dot(a, theta2))\n",
    "a = tanh(np.dot(a, theta3))\n",
    "a"
   ]
  },
  {
   "cell_type": "code",
   "execution_count": null,
   "metadata": {},
   "outputs": [],
   "source": [
    "data1 = images_data[4].reshape((8,8))\n",
    "print(data1)\n",
    "#plt.imshow(data1)\n",
    "plt.show()"
   ]
  },
  {
   "cell_type": "code",
   "execution_count": null,
   "metadata": {
    "collapsed": true
   },
   "outputs": [],
   "source": []
  },
  {
   "cell_type": "code",
   "execution_count": null,
   "metadata": {
    "collapsed": true
   },
   "outputs": [],
   "source": []
  }
 ],
 "metadata": {
  "kernelspec": {
   "display_name": "Python 3",
   "language": "python",
   "name": "python3"
  },
  "language_info": {
   "codemirror_mode": {
    "name": "ipython",
    "version": 3
   },
   "file_extension": ".py",
   "mimetype": "text/x-python",
   "name": "python",
   "nbconvert_exporter": "python",
   "pygments_lexer": "ipython3",
   "version": "3.6.3"
  }
 },
 "nbformat": 4,
 "nbformat_minor": 2
}
