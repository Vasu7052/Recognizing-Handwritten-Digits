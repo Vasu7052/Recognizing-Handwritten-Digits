{
 "cells": [
  {
   "cell_type": "code",
   "execution_count": 25,
   "metadata": {
    "collapsed": true
   },
   "outputs": [],
   "source": [
    "import pandas as pd\n",
    "import numpy as np\n",
    "import sys\n",
    "from sklearn import datasets\n",
    "import matplotlib.pyplot as plt\n"
   ]
  },
  {
   "cell_type": "code",
   "execution_count": 26,
   "metadata": {},
   "outputs": [
    {
     "data": {
      "text/plain": [
       "dict_keys(['data', 'target', 'target_names', 'images', 'DESCR'])"
      ]
     },
     "execution_count": 26,
     "metadata": {},
     "output_type": "execute_result"
    }
   ],
   "source": [
    "digits = datasets.load_digits()\n",
    "digits.keys()"
   ]
  },
  {
   "cell_type": "code",
   "execution_count": 35,
   "metadata": {},
   "outputs": [
    {
     "data": {
      "text/plain": [
       "0"
      ]
     },
     "execution_count": 35,
     "metadata": {},
     "output_type": "execute_result"
    }
   ],
   "source": [
    "images_data = digits['data']\n",
    "temp_output = digits['target'].reshape((1797,1))\n",
    "images_data[0]\n",
    "images_data.shape\n",
    "temp_output[0][0]"
   ]
  },
  {
   "cell_type": "code",
   "execution_count": 27,
   "metadata": {},
   "outputs": [
    {
     "data": {
      "text/plain": [
       "(1797, 64)"
      ]
     },
     "execution_count": 27,
     "metadata": {},
     "output_type": "execute_result"
    }
   ],
   "source": [
    "images_output = []\n",
    "for in in range(len(temp_output)):\n",
    "    if temp_output[i][0] == 0 :\n",
    "        images_output.append([1,0,0,0,0,0,0,0,0,0])\n",
    "    elif temp_output[i][0] == 1 :\n",
    "        images_output.append([0,1,0,0,0,0,0,0,0,0])\n",
    "    elif temp_output[i][0] == 2 :\n",
    "        images_output.append([0,0,1,0,0,0,0,0,0,0])\n",
    "    elif temp_output[i][0] == 3 :\n",
    "        images_output.append([0,0,0,1,0,0,0,0,0,0])\n",
    "    elif temp_output[i][0] == 4 :\n",
    "        images_output.append([1,0,0,0,0,0,0,0,0,0])\n",
    "    elif temp_output[i][0] == 5 :\n",
    "        images_output.append([1,0,0,0,0,0,0,0,0,0])\n",
    "    elif temp_output[i][0] == 6 :\n",
    "        images_output.append([1,0,0,0,0,0,0,0,0,0])\n",
    "    elif temp_output[i][0] == 7 :\n",
    "        images_output.append([1,0,0,0,0,0,0,0,0,0])\n",
    "    elif temp_output[i][0] == 8 :\n",
    "        images_output.append([1,0,0,0,0,0,0,0,0,0])\n",
    "    elif temp_output[i][0] == 9 :\n",
    "        images_output.append([1,0,0,0,0,0,0,0,0,0])\n",
    "    "
   ]
  },
  {
   "cell_type": "code",
   "execution_count": 28,
   "metadata": {},
   "outputs": [
    {
     "data": {
      "text/plain": [
       "array([[ 0.4357618 , -0.04007538, -0.02452158, ..., -0.76456026,\n",
       "        -0.94671401,  0.33211404],\n",
       "       [-0.27048507,  0.64137388,  0.77324239, ...,  0.43674763,\n",
       "         0.23187107, -0.61244868],\n",
       "       [ 0.8073914 , -0.25328298, -0.0440169 , ..., -0.0827385 ,\n",
       "         0.9652201 , -0.02329092],\n",
       "       ..., \n",
       "       [ 0.72727672, -0.20448085,  0.74164675, ..., -0.24718951,\n",
       "        -0.12866748,  0.29812065],\n",
       "       [ 0.66049062,  0.2549741 , -0.67933234, ..., -0.86804648,\n",
       "         0.89220757,  0.57567756],\n",
       "       [-0.47682337, -0.85511441, -0.83325194, ...,  0.19678288,\n",
       "         0.41077145, -0.67384219]])"
      ]
     },
     "execution_count": 28,
     "metadata": {},
     "output_type": "execute_result"
    }
   ],
   "source": [
    "costs = []\n",
    "learning_rate = 0.1\n",
    "\n",
    "iterations = 1000\n",
    "hidden_layer = 1\n",
    "hidden_units = len(images_data[0])+1\n",
    "theta1 = np.array(np.random.uniform(-1,1,(len(images_data[0]),hidden_units))).astype(float)\n",
    "theta2 = np.array(np.random.uniform(-1,1,(hidden_units,1))).astype(float)\n",
    "theta1"
   ]
  },
  {
   "cell_type": "code",
   "execution_count": 29,
   "metadata": {
    "collapsed": true
   },
   "outputs": [],
   "source": [
    "def tanh(x):\n",
    "    return np.tanh(x)\n",
    "\n",
    "\n",
    "def tanh_prime(x):\n",
    "    return 1.0 - x ** 2"
   ]
  },
  {
   "cell_type": "code",
   "execution_count": 30,
   "metadata": {},
   "outputs": [
    {
     "name": "stdout",
     "output_type": "stream",
     "text": [
      "Iteration : 999/1000"
     ]
    }
   ],
   "source": [
    "for i in range(0,iterations):\n",
    "    \n",
    "    sys.stdout.write(\"\\r\")\n",
    "    sys.stdout.write(\"Iteration : \" + str(i) + \"/\" + str(iterations))\n",
    "    sys.stdout.flush()\n",
    "\n",
    "    rnd = np.random.randint(0,len(images_data))\n",
    "    tempx = np.atleast_2d(images_data[rnd].astype(float))\n",
    "    tempy = np.atleast_2d(images_output[rnd].astype(float))\n",
    "    \n",
    "    c = 0\n",
    "    for i in range(len(images_data)) :\n",
    "        a = images_data[i]\n",
    "        a = tanh(np.dot(a, theta1))\n",
    "        a = tanh(np.dot(a, theta2))\n",
    "        c = c + (a[0]-images_output[i])**2\n",
    "\n",
    "    costs.append(c/len(images_data))\n",
    "    \n",
    "    a1 = tempx\n",
    "    a2 = tanh(np.array(np.dot(a1,theta1)))\n",
    "    a3 = tanh(np.array(np.dot(a2,theta2)))\n",
    "    \n",
    "    error = np.subtract(a3,tempy)\n",
    "    \n",
    "    delta3 = np.dot(error,tanh_prime(a3))\n",
    "    \n",
    "    del2 = np.dot(delta3,theta2.transpose())\n",
    "    delta2 = del2*tanh_prime(a2)\n",
    "    \n",
    "    theta1 = theta1 - learning_rate*(np.dot(a1.transpose(),delta2))\n",
    "    theta2 = theta2 - learning_rate*(np.dot(a2.transpose(),delta3))\n",
    "\n",
    "    "
   ]
  },
  {
   "cell_type": "code",
   "execution_count": null,
   "metadata": {
    "collapsed": true
   },
   "outputs": [],
   "source": [
    "costs"
   ]
  },
  {
   "cell_type": "code",
   "execution_count": 33,
   "metadata": {},
   "outputs": [
    {
     "data": {
      "text/plain": [
       "array([ 1.])"
      ]
     },
     "execution_count": 33,
     "metadata": {},
     "output_type": "execute_result"
    }
   ],
   "source": [
    "a = images_data[0]\n",
    "a = tanh(np.dot(a, theta1))\n",
    "a = tanh(np.dot(a, theta2))\n",
    "a"
   ]
  },
  {
   "cell_type": "code",
   "execution_count": 32,
   "metadata": {},
   "outputs": [
    {
     "name": "stdout",
     "output_type": "stream",
     "text": [
      "[[  0.   0.   0.   1.  11.   0.   0.   0.]\n",
      " [  0.   0.   0.   7.   8.   0.   0.   0.]\n",
      " [  0.   0.   1.  13.   6.   2.   2.   0.]\n",
      " [  0.   0.   7.  15.   0.   9.   8.   0.]\n",
      " [  0.   5.  16.  10.   0.  16.   6.   0.]\n",
      " [  0.   4.  15.  16.  13.  16.   1.   0.]\n",
      " [  0.   0.   0.   3.  15.  10.   0.   0.]\n",
      " [  0.   0.   0.   2.  16.   4.   0.   0.]]\n"
     ]
    },
    {
     "data": {
      "image/png": "[encoded data removed]",
      "text/plain": [
       "<matplotlib.figure.Figure at 0x831e613a90>"
      ]
     },
     "metadata": {},
     "output_type": "display_data"
    }
   ],
   "source": [
    "data1 = images_data[4].reshape((8,8))\n",
    "print(data1)\n",
    "plt.imshow(data1)\n",
    "plt.show()"
   ]
  },
  {
   "cell_type": "code",
   "execution_count": null,
   "metadata": {},
   "outputs": [],
   "source": []
  },
  {
   "cell_type": "code",
   "execution_count": null,
   "metadata": {
    "collapsed": true
   },
   "outputs": [],
   "source": []
  }
 ],
 "metadata": {
  "kernelspec": {
   "display_name": "Python 3",
   "language": "python",
   "name": "python3"
  }
 },
 "nbformat": 4,
 "nbformat_minor": 2
}
