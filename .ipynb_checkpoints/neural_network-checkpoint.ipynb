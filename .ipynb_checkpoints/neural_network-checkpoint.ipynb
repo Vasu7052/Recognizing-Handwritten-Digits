{
 "cells": [
  {
   "cell_type": "code",
   "execution_count": 15,
   "metadata": {
    "collapsed": true
   },
   "outputs": [],
   "source": [
    "import pandas as pd\n",
    "import numpy as np\n",
    "import sys\n",
    "from sklearn import datasets\n",
    "import matplotlib.pyplot as plt\n"
   ]
  },
  {
   "cell_type": "code",
   "execution_count": 16,
   "metadata": {},
   "outputs": [
    {
     "data": {
      "text/plain": [
       "dict_keys(['data', 'target', 'target_names', 'images', 'DESCR'])"
      ]
     },
     "execution_count": 16,
     "metadata": {},
     "output_type": "execute_result"
    }
   ],
   "source": [
    "digits = datasets.load_digits()\n",
    "digits.keys()"
   ]
  },
  {
   "cell_type": "code",
   "execution_count": 17,
   "metadata": {},
   "outputs": [
    {
     "data": {
      "text/plain": [
       "0"
      ]
     },
     "execution_count": 17,
     "metadata": {},
     "output_type": "execute_result"
    }
   ],
   "source": [
    "images_data = digits['data']\n",
    "temp_output = digits['target'].reshape((1797,1))\n",
    "images_data[0]\n",
    "images_data.shape\n",
    "temp_output[0][0]"
   ]
  },
  {
   "cell_type": "code",
   "execution_count": 18,
   "metadata": {},
   "outputs": [
    {
     "data": {
      "text/plain": [
       "array([[ 1.,  0.,  0., ...,  0.,  0.,  0.],\n",
       "       [ 0.,  1.,  0., ...,  0.,  0.,  0.],\n",
       "       [ 0.,  0.,  1., ...,  0.,  0.,  0.],\n",
       "       ..., \n",
       "       [ 0.,  0.,  0., ...,  0.,  1.,  0.],\n",
       "       [ 0.,  0.,  0., ...,  0.,  0.,  1.],\n",
       "       [ 0.,  0.,  0., ...,  0.,  1.,  0.]])"
      ]
     },
     "execution_count": 18,
     "metadata": {},
     "output_type": "execute_result"
    }
   ],
   "source": [
    "images_output = []\n",
    "for i in range(len(temp_output)):\n",
    "    if temp_output[i][0] == 0 :\n",
    "        images_output.append([1,0,0,0,0,0,0,0,0,0])\n",
    "    elif temp_output[i][0] == 1 :\n",
    "        images_output.append([0,1,0,0,0,0,0,0,0,0])\n",
    "    elif temp_output[i][0] == 2 :\n",
    "        images_output.append([0,0,1,0,0,0,0,0,0,0])\n",
    "    elif temp_output[i][0] == 3 :\n",
    "        images_output.append([0,0,0,1,0,0,0,0,0,0])\n",
    "    elif temp_output[i][0] == 4 :\n",
    "        images_output.append([0,0,0,0,1,0,0,0,0,0])\n",
    "    elif temp_output[i][0] == 5 :\n",
    "        images_output.append([0,0,0,0,0,1,0,0,0,0])\n",
    "    elif temp_output[i][0] == 6 :\n",
    "        images_output.append([0,0,0,0,0,0,1,0,0,0])\n",
    "    elif temp_output[i][0] == 7 :\n",
    "        images_output.append([0,0,0,0,0,0,0,1,0,0])\n",
    "    elif temp_output[i][0] == 8 :\n",
    "        images_output.append([0,0,0,0,0,0,0,0,1,0])\n",
    "    elif temp_output[i][0] == 9 :\n",
    "        images_output.append([0,0,0,0,0,0,0,0,0,1])\n",
    "images_output = np.array(images_output).astype(float)   \n",
    "images_output"
   ]
  },
  {
   "cell_type": "code",
   "execution_count": 19,
   "metadata": {
    "collapsed": true
   },
   "outputs": [],
   "source": [
    "costs = []\n",
    "learning_rate = 0.001\n",
    "\n",
    "iterations = 500\n",
    "hidden_layer = 1\n",
    "hidden_units = 20\n",
    "theta1 = np.array(np.random.uniform(-1,1,(len(images_data[0]),25))).astype(float)\n",
    "theta2 = np.array(np.random.uniform(-1,1,(25,20))).astype(float)\n",
    "theta3 = np.array(np.random.uniform(-1,1,(20,15))).astype(float)\n",
    "theta4 = np.array(np.random.uniform(-1,1,(15,10))).astype(float)"
   ]
  },
  {
   "cell_type": "code",
   "execution_count": 20,
   "metadata": {
    "collapsed": true
   },
   "outputs": [],
   "source": [
    "def tanh(x):\n",
    "    return np.tanh(x)\n",
    "\n",
    "\n",
    "def tanh_prime(x):\n",
    "    return 1.0 - x ** 2"
   ]
  },
  {
   "cell_type": "code",
   "execution_count": 21,
   "metadata": {},
   "outputs": [
    {
     "name": "stdout",
     "output_type": "stream",
     "text": [
      "Iteration : 500/500"
     ]
    }
   ],
   "source": [
    "for i in range(0,iterations):\n",
    "    \n",
    "    sys.stdout.write(\"\\r\")\n",
    "    sys.stdout.write(\"Iteration : \" + str(i+1) + \"/\" + str(iterations))\n",
    "    sys.stdout.flush()\n",
    "\n",
    "    rnd = np.random.randint(0,len(images_data))\n",
    "    tempx = np.atleast_2d(images_data[rnd].astype(float))\n",
    "    tempy = np.atleast_2d(images_output[rnd].astype(float))\n",
    "    \n",
    "    c = 0\n",
    "    for i in range(len(images_data)) :\n",
    "        a = images_data[i]\n",
    "        a = tanh(np.dot(a, theta1))\n",
    "        a = tanh(np.dot(a, theta2))\n",
    "        a = tanh(np.dot(a, theta3))\n",
    "        a = tanh(np.dot(a, theta4))\n",
    "        c = c + (a[0]-images_output[i])**2\n",
    "\n",
    "    costs.append(c/len(images_data))\n",
    "    \n",
    "    a1 = tempx\n",
    "    a2 = tanh(np.array(np.dot(a1,theta1)))\n",
    "    a3 = tanh(np.array(np.dot(a2,theta2)))\n",
    "    a4 = tanh(np.array(np.dot(a3,theta3)))\n",
    "    a5 = tanh(np.array(np.dot(a4,theta4)))\n",
    "    \n",
    "    error = np.subtract(a5,tempy)\n",
    "    \n",
    "    delta5 = error * tanh_prime(a5)\n",
    "    \n",
    "    del4 = np.dot(delta5,theta4.transpose())\n",
    "    delta4 = del4*tanh_prime(a4)\n",
    "     \n",
    "    del3 = np.dot(delta4,theta3.transpose())\n",
    "    delta3 = del3*tanh_prime(a3)\n",
    "    \n",
    "    del2 = np.dot(delta3,theta2.transpose())\n",
    "    delta2 = del2*tanh_prime(a2)\n",
    "    \n",
    "    theta1 = theta1 - learning_rate*(np.dot(a1.transpose(),delta2))\n",
    "    theta2 = theta2 - learning_rate*(np.dot(a2.transpose(),delta3))\n",
    "    theta3 = theta3 - learning_rate*(np.dot(a3.transpose(),delta4))\n",
    "    theta4 = theta4 - learning_rate*(np.dot(a4.transpose(),delta5))\n",
    "\n",
    "    "
   ]
  },
  {
   "cell_type": "code",
   "execution_count": 22,
   "metadata": {},
   "outputs": [
    {
     "data": {
      "text/plain": [
       "[<matplotlib.lines.Line2D at 0x146df027f0>]"
      ]
     },
     "execution_count": 22,
     "metadata": {},
     "output_type": "execute_result"
    }
   ],
   "source": [
    "costs\n",
    "means = np.mean(costs,axis=1)\n",
    "plt.plot(np.arange(iterations) , means , c='b')"
   ]
  },
  {
   "cell_type": "code",
   "execution_count": 24,
   "metadata": {},
   "outputs": [
    {
     "name": "stdout",
     "output_type": "stream",
     "text": [
      "908 [3] \n",
      "[ 0.78769724  0.99235453  0.62126912 -0.33504969  0.84789658  0.51618249\n",
      " -0.84621885  0.93091763 -0.97051168 -0.32531444]\n"
     ]
    },
    {
     "data": {
      "image/png": "[encoded data removed]",
      "text/plain": [
       "<matplotlib.figure.Figure at 0x14660e8c50>"
      ]
     },
     "metadata": {},
     "output_type": "display_data"
    }
   ],
   "source": [
    "rnd = np.random.randint(0,1000)\n",
    "a = images_data[rnd]\n",
    "a = tanh(np.dot(a, theta1))\n",
    "a = tanh(np.dot(a, theta2))\n",
    "a = tanh(np.dot(a, theta3))\n",
    "a = tanh(np.dot(a, theta4))\n",
    "print(rnd , temp_output[rnd] , '\\n'+ str(a))\n",
    "data1 = images_data[rnd].reshape((8,8))\n",
    "#fig = plt.imshow(data1)\n",
    "plt.figure()\n",
    "plt.imshow(255-data1)\n",
    "plt.gray()\n",
    "plt.show()"
   ]
  }
 ],
 "metadata": {
  "kernelspec": {
   "display_name": "Python 3",
   "language": "python",
   "name": "python3"
  },
  "language_info": {
   "codemirror_mode": {
    "name": "ipython",
    "version": 3
   },
   "file_extension": ".py",
   "mimetype": "text/x-python",
   "name": "python",
   "nbconvert_exporter": "python",
   "pygments_lexer": "ipython3",
   "version": "3.6.3"
  }
 },
 "nbformat": 4,
 "nbformat_minor": 2
}
